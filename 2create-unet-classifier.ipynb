{
 "cells": [
  {
   "cell_type": "markdown",
   "id": "d7ded0b3",
   "metadata": {},
   "source": [
    "# **Train UnetClassifier**"
   ]
  },
  {
   "cell_type": "code",
   "execution_count": 1,
   "id": "3d1ed8d2",
   "metadata": {},
   "outputs": [],
   "source": [
    "import os\n",
    "os.environ['CUDA_VISIBLE_DEVICES'] = \"7\"\n",
    "DEVICE = 'cuda'\n",
    "\n",
    "import torch.optim as optim\n",
    "import torch.nn.functional as F \n",
    "import numpy as np\n",
    "import pandas as pd\n",
    "import torch.nn as nn\n",
    "import matplotlib.pyplot as plt\n",
    "\n",
    "def history_plot(train,val,metric):\n",
    "    \n",
    "    plt.figure(figsize=(12, 6))\n",
    "    plt.plot(train)\n",
    "    plt.plot(val)\n",
    "    plt.title('log')\n",
    "    plt.ylabel(metric)\n",
    "    plt.xlabel('epoch')\n",
    "    plt.legend(['train', 'validate'], loc='upper left')\n",
    "    plt.show()\n",
    "    \n",
    "# เพิ่ม . \n",
    "def add_dot(df):\n",
    "    cols = ['filename','mask_filename']\n",
    "    for i in cols :\n",
    "        #df[i] = df[i].apply(lambda x: '.' + x[1:])\n",
    "        df[i] = df[i].str.replace('./dataset', '../dataset')\n",
    "    return df\n",
    "\n",
    "def encoder_class(dataframe):\n",
    "    \n",
    "    encoder = {'benign':1, 'malignant':2, 'normal':0}\n",
    "    dataframe['class'] = [encoder[i] for i in dataframe['category']]\n",
    "    \n",
    "    return dataframe"
   ]
  },
  {
   "cell_type": "code",
   "execution_count": 17,
   "id": "fd0628d9",
   "metadata": {},
   "outputs": [
    {
     "name": "stdout",
     "output_type": "stream",
     "text": [
      "category\n",
      "benign       845\n",
      "malignant    845\n",
      "normal       845\n",
      "Name: count, dtype: int64\n",
      "class\n",
      "1    845\n",
      "2    845\n",
      "0    845\n",
      "Name: count, dtype: int64\n",
      "category\n",
      "benign       121\n",
      "malignant    121\n",
      "normal       121\n",
      "Name: count, dtype: int64\n",
      "class\n",
      "1    121\n",
      "2    121\n",
      "0    121\n",
      "Name: count, dtype: int64\n"
     ]
    }
   ],
   "source": [
    "train_path = '../dataset/unet/dataset-train-augment.csv'\n",
    "train_df = pd.read_csv(train_path)\n",
    "train_df = add_dot(train_df)\n",
    "\n",
    "val_path = '../dataset/unet/dataset-validate-augment.csv'\n",
    "val_df = pd.read_csv(val_path)\n",
    "val_df = add_dot(val_df)\n",
    "\n",
    "test_path = '../dataset/unet/dataset-test-augment.csv'\n",
    "test_df = pd.read_csv(test_path)\n",
    "test_df = add_dot(test_df)\n",
    "\n",
    "train_df = encoder_class(train_df)\n",
    "val_df = encoder_class(val_df)\n",
    "print(train_df['category'].value_counts())\n",
    "print(train_df['class'].value_counts())\n",
    "print(val_df['category'].value_counts())\n",
    "print(val_df['class'].value_counts())"
   ]
  },
  {
   "cell_type": "code",
   "execution_count": 3,
   "id": "ff1dba96",
   "metadata": {},
   "outputs": [],
   "source": [
    "# prepare loss and dataset\n",
    "import DataLoad \n",
    "train_loader = DataLoad.get_data(train_df,16)\n",
    "val_loader = DataLoad.get_data(val_df,16)\n",
    "loss_func = nn.CrossEntropyLoss()"
   ]
  },
  {
   "cell_type": "code",
   "execution_count": 4,
   "id": "06e80335",
   "metadata": {
    "scrolled": true
   },
   "outputs": [
    {
     "name": "stderr",
     "output_type": "stream",
     "text": [
      "Epoch [0/100]: 100%|██████████| 159/159 [00:19<00:00,  8.16it/s, loss=0.939]\n"
     ]
    },
    {
     "name": "stdout",
     "output_type": "stream",
     "text": [
      "Model saved!\n",
      "Epoch 1/100 => Train Loss: 0.8870,\n",
      "Validation Loss: 0.7197 , Validate Accuracy 0.8733 \n",
      "------------------------------------------------------------------------------------------\n"
     ]
    },
    {
     "name": "stderr",
     "output_type": "stream",
     "text": [
      "Epoch [1/100]: 100%|██████████| 159/159 [00:19<00:00,  8.24it/s, loss=0.868]\n"
     ]
    },
    {
     "name": "stdout",
     "output_type": "stream",
     "text": [
      "Model saved!\n",
      "Epoch 2/100 => Train Loss: 0.8364,\n",
      "Validation Loss: 0.8742 , Validate Accuracy 0.8898 \n",
      "------------------------------------------------------------------------------------------\n"
     ]
    },
    {
     "name": "stderr",
     "output_type": "stream",
     "text": [
      "Epoch [2/100]: 100%|██████████| 159/159 [00:19<00:00,  8.22it/s, loss=0.802]\n"
     ]
    },
    {
     "name": "stdout",
     "output_type": "stream",
     "text": [
      "Model saved!\n",
      "Epoch 3/100 => Train Loss: 0.8116,\n",
      "Validation Loss: 0.9023 , Validate Accuracy 0.9008 \n",
      "------------------------------------------------------------------------------------------\n"
     ]
    },
    {
     "name": "stderr",
     "output_type": "stream",
     "text": [
      "Epoch [3/100]: 100%|██████████| 159/159 [00:19<00:00,  8.12it/s, loss=0.745]\n"
     ]
    },
    {
     "name": "stdout",
     "output_type": "stream",
     "text": [
      "Model saved!\n",
      "Epoch 4/100 => Train Loss: 0.7932,\n",
      "Validation Loss: 0.7471 , Validate Accuracy 0.9036 \n",
      "------------------------------------------------------------------------------------------\n"
     ]
    },
    {
     "name": "stderr",
     "output_type": "stream",
     "text": [
      "Epoch [4/100]: 100%|██████████| 159/159 [00:19<00:00,  8.32it/s, loss=0.734]\n"
     ]
    },
    {
     "name": "stdout",
     "output_type": "stream",
     "text": [
      "Model saved!\n",
      "Epoch 5/100 => Train Loss: 0.7822,\n",
      "Validation Loss: 0.8251 , Validate Accuracy 0.9091 \n",
      "------------------------------------------------------------------------------------------\n"
     ]
    },
    {
     "name": "stderr",
     "output_type": "stream",
     "text": [
      "Epoch [5/100]: 100%|██████████| 159/159 [00:19<00:00,  8.34it/s, loss=0.922]\n"
     ]
    },
    {
     "name": "stdout",
     "output_type": "stream",
     "text": [
      "Model saved!\n",
      "Epoch 6/100 => Train Loss: 0.7669,\n",
      "Validation Loss: 0.6831 , Validate Accuracy 0.9118 \n",
      "------------------------------------------------------------------------------------------\n"
     ]
    },
    {
     "name": "stderr",
     "output_type": "stream",
     "text": [
      "Epoch [6/100]: 100%|██████████| 159/159 [00:18<00:00,  8.37it/s, loss=0.662]\n"
     ]
    },
    {
     "name": "stdout",
     "output_type": "stream",
     "text": [
      "Model saved!\n",
      "Epoch 7/100 => Train Loss: 0.7558,\n",
      "Validation Loss: 0.7536 , Validate Accuracy 0.9146 \n",
      "------------------------------------------------------------------------------------------\n"
     ]
    },
    {
     "name": "stderr",
     "output_type": "stream",
     "text": [
      "Epoch [7/100]: 100%|██████████| 159/159 [00:19<00:00,  8.20it/s, loss=0.754]\n"
     ]
    },
    {
     "name": "stdout",
     "output_type": "stream",
     "text": [
      "Epoch 8/100 => Train Loss: 0.7485,\n",
      "Validation Loss: 0.7540 , Validate Accuracy 0.9063 \n",
      "------------------------------------------------------------------------------------------\n"
     ]
    },
    {
     "name": "stderr",
     "output_type": "stream",
     "text": [
      "Epoch [8/100]: 100%|██████████| 159/159 [00:19<00:00,  8.26it/s, loss=0.645]\n"
     ]
    },
    {
     "name": "stdout",
     "output_type": "stream",
     "text": [
      "Model saved!\n",
      "Epoch 9/100 => Train Loss: 0.7399,\n",
      "Validation Loss: 0.7978 , Validate Accuracy 0.9174 \n",
      "------------------------------------------------------------------------------------------\n"
     ]
    },
    {
     "name": "stderr",
     "output_type": "stream",
     "text": [
      "Epoch [9/100]: 100%|██████████| 159/159 [00:19<00:00,  8.21it/s, loss=0.715]\n"
     ]
    },
    {
     "name": "stdout",
     "output_type": "stream",
     "text": [
      "Epoch 10/100 => Train Loss: 0.7273,\n",
      "Validation Loss: 0.6926 , Validate Accuracy 0.9118 \n",
      "------------------------------------------------------------------------------------------\n"
     ]
    },
    {
     "name": "stderr",
     "output_type": "stream",
     "text": [
      "Epoch [10/100]: 100%|██████████| 159/159 [00:19<00:00,  8.24it/s, loss=1.05] \n"
     ]
    },
    {
     "name": "stdout",
     "output_type": "stream",
     "text": [
      "Epoch 11/100 => Train Loss: 0.7201,\n",
      "Validation Loss: 0.8190 , Validate Accuracy 0.9091 \n",
      "------------------------------------------------------------------------------------------\n"
     ]
    },
    {
     "name": "stderr",
     "output_type": "stream",
     "text": [
      "Epoch [11/100]: 100%|██████████| 159/159 [00:19<00:00,  8.31it/s, loss=0.773]\n"
     ]
    },
    {
     "name": "stdout",
     "output_type": "stream",
     "text": [
      "Epoch 12/100 => Train Loss: 0.7145,\n",
      "Validation Loss: 0.7125 , Validate Accuracy 0.9008 \n",
      "------------------------------------------------------------------------------------------\n"
     ]
    },
    {
     "name": "stderr",
     "output_type": "stream",
     "text": [
      "Epoch [12/100]: 100%|██████████| 159/159 [00:19<00:00,  8.28it/s, loss=0.688]\n"
     ]
    },
    {
     "name": "stdout",
     "output_type": "stream",
     "text": [
      "Epoch 13/100 => Train Loss: 0.7038,\n",
      "Validation Loss: 0.6016 , Validate Accuracy 0.9174 \n",
      "------------------------------------------------------------------------------------------\n"
     ]
    },
    {
     "name": "stderr",
     "output_type": "stream",
     "text": [
      "Epoch [13/100]: 100%|██████████| 159/159 [00:19<00:00,  8.29it/s, loss=0.768]\n"
     ]
    },
    {
     "name": "stdout",
     "output_type": "stream",
     "text": [
      "Epoch 14/100 => Train Loss: 0.6945,\n",
      "Validation Loss: 0.7571 , Validate Accuracy 0.9063 \n",
      "------------------------------------------------------------------------------------------\n"
     ]
    },
    {
     "name": "stderr",
     "output_type": "stream",
     "text": [
      "Epoch [14/100]: 100%|██████████| 159/159 [00:19<00:00,  8.28it/s, loss=0.669]\n"
     ]
    },
    {
     "name": "stdout",
     "output_type": "stream",
     "text": [
      "Epoch 15/100 => Train Loss: 0.6867,\n",
      "Validation Loss: 0.7828 , Validate Accuracy 0.9146 \n",
      "------------------------------------------------------------------------------------------\n"
     ]
    },
    {
     "name": "stderr",
     "output_type": "stream",
     "text": [
      "Epoch [15/100]: 100%|██████████| 159/159 [00:19<00:00,  8.26it/s, loss=0.655]\n"
     ]
    },
    {
     "name": "stdout",
     "output_type": "stream",
     "text": [
      "Epoch 16/100 => Train Loss: 0.6840,\n",
      "Validation Loss: 0.7322 , Validate Accuracy 0.9118 \n",
      "------------------------------------------------------------------------------------------\n"
     ]
    },
    {
     "name": "stderr",
     "output_type": "stream",
     "text": [
      "Epoch [16/100]: 100%|██████████| 159/159 [00:18<00:00,  8.43it/s, loss=0.724]\n"
     ]
    },
    {
     "name": "stdout",
     "output_type": "stream",
     "text": [
      "Epoch 17/100 => Train Loss: 0.6813,\n",
      "Validation Loss: 0.6943 , Validate Accuracy 0.9174 \n",
      "------------------------------------------------------------------------------------------\n"
     ]
    },
    {
     "name": "stderr",
     "output_type": "stream",
     "text": [
      "Epoch [17/100]: 100%|██████████| 159/159 [00:19<00:00,  8.27it/s, loss=0.738]\n"
     ]
    },
    {
     "name": "stdout",
     "output_type": "stream",
     "text": [
      "Epoch 18/100 => Train Loss: 0.6733,\n",
      "Validation Loss: 0.7385 , Validate Accuracy 0.9036 \n",
      "------------------------------------------------------------------------------------------\n"
     ]
    },
    {
     "name": "stderr",
     "output_type": "stream",
     "text": [
      "Epoch [18/100]: 100%|██████████| 159/159 [00:19<00:00,  8.27it/s, loss=0.576]\n"
     ]
    },
    {
     "name": "stdout",
     "output_type": "stream",
     "text": [
      "Epoch 19/100 => Train Loss: 0.6658,\n",
      "Validation Loss: 0.6586 , Validate Accuracy 0.9146 \n",
      "------------------------------------------------------------------------------------------\n"
     ]
    },
    {
     "name": "stderr",
     "output_type": "stream",
     "text": [
      "Epoch [19/100]: 100%|██████████| 159/159 [00:18<00:00,  8.38it/s, loss=0.619]\n"
     ]
    },
    {
     "name": "stdout",
     "output_type": "stream",
     "text": [
      "Model saved!\n",
      "Epoch 20/100 => Train Loss: 0.6636,\n",
      "Validation Loss: 0.6050 , Validate Accuracy 0.9201 \n",
      "------------------------------------------------------------------------------------------\n"
     ]
    },
    {
     "name": "stderr",
     "output_type": "stream",
     "text": [
      "Epoch [20/100]: 100%|██████████| 159/159 [00:19<00:00,  8.33it/s, loss=0.614]\n"
     ]
    },
    {
     "name": "stdout",
     "output_type": "stream",
     "text": [
      "Epoch 21/100 => Train Loss: 0.6580,\n",
      "Validation Loss: 0.6046 , Validate Accuracy 0.9146 \n",
      "------------------------------------------------------------------------------------------\n"
     ]
    },
    {
     "name": "stderr",
     "output_type": "stream",
     "text": [
      "Epoch [21/100]: 100%|██████████| 159/159 [00:18<00:00,  8.38it/s, loss=0.616]\n"
     ]
    },
    {
     "name": "stdout",
     "output_type": "stream",
     "text": [
      "Epoch 22/100 => Train Loss: 0.6541,\n",
      "Validation Loss: 0.6536 , Validate Accuracy 0.9174 \n",
      "------------------------------------------------------------------------------------------\n"
     ]
    },
    {
     "name": "stderr",
     "output_type": "stream",
     "text": [
      "Epoch [22/100]: 100%|██████████| 159/159 [00:19<00:00,  8.32it/s, loss=0.828]\n"
     ]
    },
    {
     "name": "stdout",
     "output_type": "stream",
     "text": [
      "Epoch 23/100 => Train Loss: 0.6519,\n",
      "Validation Loss: 0.5764 , Validate Accuracy 0.9063 \n",
      "------------------------------------------------------------------------------------------\n"
     ]
    },
    {
     "name": "stderr",
     "output_type": "stream",
     "text": [
      "Epoch [23/100]: 100%|██████████| 159/159 [00:19<00:00,  8.25it/s, loss=0.596]\n"
     ]
    },
    {
     "name": "stdout",
     "output_type": "stream",
     "text": [
      "Epoch 24/100 => Train Loss: 0.6472,\n",
      "Validation Loss: 0.5968 , Validate Accuracy 0.9118 \n",
      "------------------------------------------------------------------------------------------\n"
     ]
    },
    {
     "name": "stderr",
     "output_type": "stream",
     "text": [
      "Epoch [24/100]: 100%|██████████| 159/159 [00:19<00:00,  8.27it/s, loss=0.586]\n"
     ]
    },
    {
     "name": "stdout",
     "output_type": "stream",
     "text": [
      "Epoch 25/100 => Train Loss: 0.6430,\n",
      "Validation Loss: 0.5853 , Validate Accuracy 0.9146 \n",
      "------------------------------------------------------------------------------------------\n"
     ]
    },
    {
     "name": "stderr",
     "output_type": "stream",
     "text": [
      "Epoch [25/100]: 100%|██████████| 159/159 [00:19<00:00,  8.30it/s, loss=0.598]\n"
     ]
    },
    {
     "name": "stdout",
     "output_type": "stream",
     "text": [
      "Model saved!\n",
      "Epoch 26/100 => Train Loss: 0.6412,\n",
      "Validation Loss: 0.7663 , Validate Accuracy 0.9229 \n",
      "------------------------------------------------------------------------------------------\n"
     ]
    },
    {
     "name": "stderr",
     "output_type": "stream",
     "text": [
      "Epoch [26/100]: 100%|██████████| 159/159 [00:19<00:00,  8.19it/s, loss=0.711]\n"
     ]
    },
    {
     "name": "stdout",
     "output_type": "stream",
     "text": [
      "Epoch 27/100 => Train Loss: 0.6388,\n",
      "Validation Loss: 0.6825 , Validate Accuracy 0.9174 \n",
      "------------------------------------------------------------------------------------------\n"
     ]
    },
    {
     "name": "stderr",
     "output_type": "stream",
     "text": [
      "Epoch [27/100]: 100%|██████████| 159/159 [00:19<00:00,  8.24it/s, loss=0.585]\n"
     ]
    },
    {
     "name": "stdout",
     "output_type": "stream",
     "text": [
      "Epoch 28/100 => Train Loss: 0.6339,\n",
      "Validation Loss: 0.6662 , Validate Accuracy 0.9229 \n",
      "------------------------------------------------------------------------------------------\n"
     ]
    },
    {
     "name": "stderr",
     "output_type": "stream",
     "text": [
      "Epoch [28/100]: 100%|██████████| 159/159 [00:19<00:00,  8.36it/s, loss=0.563]\n"
     ]
    },
    {
     "name": "stdout",
     "output_type": "stream",
     "text": [
      "Model saved!\n",
      "Epoch 29/100 => Train Loss: 0.6342,\n",
      "Validation Loss: 0.7700 , Validate Accuracy 0.9311 \n",
      "------------------------------------------------------------------------------------------\n"
     ]
    },
    {
     "name": "stderr",
     "output_type": "stream",
     "text": [
      "Epoch [29/100]: 100%|██████████| 159/159 [00:19<00:00,  8.31it/s, loss=0.582]\n"
     ]
    },
    {
     "name": "stdout",
     "output_type": "stream",
     "text": [
      "Epoch 30/100 => Train Loss: 0.6353,\n",
      "Validation Loss: 0.7064 , Validate Accuracy 0.9063 \n",
      "------------------------------------------------------------------------------------------\n"
     ]
    },
    {
     "name": "stderr",
     "output_type": "stream",
     "text": [
      "Epoch [30/100]: 100%|██████████| 159/159 [00:19<00:00,  8.29it/s, loss=0.595]\n"
     ]
    },
    {
     "name": "stdout",
     "output_type": "stream",
     "text": [
      "Epoch 31/100 => Train Loss: 0.6292,\n",
      "Validation Loss: 0.6674 , Validate Accuracy 0.9256 \n",
      "------------------------------------------------------------------------------------------\n"
     ]
    },
    {
     "name": "stderr",
     "output_type": "stream",
     "text": [
      "Epoch [31/100]: 100%|██████████| 159/159 [00:19<00:00,  8.31it/s, loss=0.579]\n"
     ]
    },
    {
     "name": "stdout",
     "output_type": "stream",
     "text": [
      "Epoch 32/100 => Train Loss: 0.6281,\n",
      "Validation Loss: 0.7367 , Validate Accuracy 0.9201 \n",
      "------------------------------------------------------------------------------------------\n"
     ]
    },
    {
     "name": "stderr",
     "output_type": "stream",
     "text": [
      "Epoch [32/100]: 100%|██████████| 159/159 [00:19<00:00,  8.30it/s, loss=0.589]\n"
     ]
    },
    {
     "name": "stdout",
     "output_type": "stream",
     "text": [
      "Epoch 33/100 => Train Loss: 0.6239,\n",
      "Validation Loss: 0.5847 , Validate Accuracy 0.9201 \n",
      "------------------------------------------------------------------------------------------\n"
     ]
    },
    {
     "name": "stderr",
     "output_type": "stream",
     "text": [
      "Epoch [33/100]: 100%|██████████| 159/159 [00:19<00:00,  8.28it/s, loss=0.562]\n"
     ]
    },
    {
     "name": "stdout",
     "output_type": "stream",
     "text": [
      "Epoch 34/100 => Train Loss: 0.6252,\n",
      "Validation Loss: 0.5682 , Validate Accuracy 0.9229 \n",
      "------------------------------------------------------------------------------------------\n"
     ]
    },
    {
     "name": "stderr",
     "output_type": "stream",
     "text": [
      "Epoch [34/100]: 100%|██████████| 159/159 [00:18<00:00,  8.38it/s, loss=0.703]\n"
     ]
    },
    {
     "name": "stdout",
     "output_type": "stream",
     "text": [
      "Epoch 35/100 => Train Loss: 0.6206,\n",
      "Validation Loss: 0.6500 , Validate Accuracy 0.9229 \n",
      "------------------------------------------------------------------------------------------\n"
     ]
    },
    {
     "name": "stderr",
     "output_type": "stream",
     "text": [
      "Epoch [35/100]: 100%|██████████| 159/159 [00:19<00:00,  8.30it/s, loss=0.691]\n"
     ]
    },
    {
     "name": "stdout",
     "output_type": "stream",
     "text": [
      "Epoch 36/100 => Train Loss: 0.6192,\n",
      "Validation Loss: 0.5709 , Validate Accuracy 0.9229 \n",
      "------------------------------------------------------------------------------------------\n"
     ]
    },
    {
     "name": "stderr",
     "output_type": "stream",
     "text": [
      "Epoch [36/100]: 100%|██████████| 159/159 [00:18<00:00,  8.38it/s, loss=0.567]\n"
     ]
    },
    {
     "name": "stdout",
     "output_type": "stream",
     "text": [
      "Epoch 37/100 => Train Loss: 0.6208,\n",
      "Validation Loss: 0.5605 , Validate Accuracy 0.9201 \n",
      "------------------------------------------------------------------------------------------\n"
     ]
    },
    {
     "name": "stderr",
     "output_type": "stream",
     "text": [
      "Epoch [37/100]: 100%|██████████| 159/159 [00:19<00:00,  8.34it/s, loss=0.578]\n"
     ]
    },
    {
     "name": "stdout",
     "output_type": "stream",
     "text": [
      "Epoch 38/100 => Train Loss: 0.6173,\n",
      "Validation Loss: 0.6685 , Validate Accuracy 0.9284 \n",
      "------------------------------------------------------------------------------------------\n"
     ]
    },
    {
     "name": "stderr",
     "output_type": "stream",
     "text": [
      "Epoch [38/100]: 100%|██████████| 159/159 [00:19<00:00,  8.33it/s, loss=0.57] \n"
     ]
    },
    {
     "name": "stdout",
     "output_type": "stream",
     "text": [
      "Epoch 39/100 => Train Loss: 0.6134,\n",
      "Validation Loss: 0.5733 , Validate Accuracy 0.9284 \n",
      "------------------------------------------------------------------------------------------\n"
     ]
    },
    {
     "name": "stderr",
     "output_type": "stream",
     "text": [
      "Epoch [39/100]: 100%|██████████| 159/159 [00:19<00:00,  8.33it/s, loss=0.704]\n"
     ]
    },
    {
     "name": "stdout",
     "output_type": "stream",
     "text": [
      "Epoch 40/100 => Train Loss: 0.6143,\n",
      "Validation Loss: 0.6579 , Validate Accuracy 0.9174 \n",
      "------------------------------------------------------------------------------------------\n"
     ]
    },
    {
     "name": "stderr",
     "output_type": "stream",
     "text": [
      "Epoch [40/100]: 100%|██████████| 159/159 [00:19<00:00,  8.31it/s, loss=0.712]\n"
     ]
    },
    {
     "name": "stdout",
     "output_type": "stream",
     "text": [
      "Epoch 41/100 => Train Loss: 0.6124,\n",
      "Validation Loss: 0.5626 , Validate Accuracy 0.9284 \n",
      "------------------------------------------------------------------------------------------\n"
     ]
    },
    {
     "name": "stderr",
     "output_type": "stream",
     "text": [
      "Epoch [41/100]: 100%|██████████| 159/159 [00:18<00:00,  8.53it/s, loss=0.706]\n"
     ]
    },
    {
     "name": "stdout",
     "output_type": "stream",
     "text": [
      "Epoch 42/100 => Train Loss: 0.6133,\n",
      "Validation Loss: 0.7163 , Validate Accuracy 0.9256 \n",
      "------------------------------------------------------------------------------------------\n"
     ]
    },
    {
     "name": "stderr",
     "output_type": "stream",
     "text": [
      "Epoch [42/100]: 100%|██████████| 159/159 [00:19<00:00,  8.33it/s, loss=0.562]\n"
     ]
    },
    {
     "name": "stdout",
     "output_type": "stream",
     "text": [
      "Model saved!\n",
      "Epoch 43/100 => Train Loss: 0.6109,\n",
      "Validation Loss: 0.5629 , Validate Accuracy 0.9339 \n",
      "------------------------------------------------------------------------------------------\n"
     ]
    },
    {
     "name": "stderr",
     "output_type": "stream",
     "text": [
      "Epoch [43/100]: 100%|██████████| 159/159 [00:19<00:00,  8.15it/s, loss=0.552]\n"
     ]
    },
    {
     "name": "stdout",
     "output_type": "stream",
     "text": [
      "Epoch 44/100 => Train Loss: 0.6080,\n",
      "Validation Loss: 0.7428 , Validate Accuracy 0.9284 \n",
      "------------------------------------------------------------------------------------------\n"
     ]
    },
    {
     "name": "stderr",
     "output_type": "stream",
     "text": [
      "Epoch [44/100]: 100%|██████████| 159/159 [00:19<00:00,  8.29it/s, loss=0.68] \n"
     ]
    },
    {
     "name": "stdout",
     "output_type": "stream",
     "text": [
      "Epoch 45/100 => Train Loss: 0.6105,\n",
      "Validation Loss: 0.5628 , Validate Accuracy 0.9229 \n",
      "------------------------------------------------------------------------------------------\n"
     ]
    },
    {
     "name": "stderr",
     "output_type": "stream",
     "text": [
      "Epoch [45/100]: 100%|██████████| 159/159 [00:19<00:00,  8.31it/s, loss=0.566]\n"
     ]
    },
    {
     "name": "stdout",
     "output_type": "stream",
     "text": [
      "Epoch 46/100 => Train Loss: 0.6096,\n",
      "Validation Loss: 0.5705 , Validate Accuracy 0.9256 \n",
      "------------------------------------------------------------------------------------------\n"
     ]
    },
    {
     "name": "stderr",
     "output_type": "stream",
     "text": [
      "Epoch [46/100]: 100%|██████████| 159/159 [00:19<00:00,  8.25it/s, loss=0.556]\n"
     ]
    },
    {
     "name": "stdout",
     "output_type": "stream",
     "text": [
      "Epoch 47/100 => Train Loss: 0.6073,\n",
      "Validation Loss: 0.6503 , Validate Accuracy 0.9118 \n",
      "------------------------------------------------------------------------------------------\n"
     ]
    },
    {
     "name": "stderr",
     "output_type": "stream",
     "text": [
      "Epoch [47/100]: 100%|██████████| 159/159 [00:18<00:00,  8.38it/s, loss=0.552]\n"
     ]
    },
    {
     "name": "stdout",
     "output_type": "stream",
     "text": [
      "Epoch 48/100 => Train Loss: 0.6038,\n",
      "Validation Loss: 0.6302 , Validate Accuracy 0.9256 \n",
      "------------------------------------------------------------------------------------------\n"
     ]
    },
    {
     "name": "stderr",
     "output_type": "stream",
     "text": [
      "Epoch [48/100]: 100%|██████████| 159/159 [00:18<00:00,  8.42it/s, loss=0.556]\n"
     ]
    },
    {
     "name": "stdout",
     "output_type": "stream",
     "text": [
      "Model saved!\n",
      "Epoch 49/100 => Train Loss: 0.6035,\n",
      "Validation Loss: 0.5592 , Validate Accuracy 0.9366 \n",
      "------------------------------------------------------------------------------------------\n"
     ]
    },
    {
     "name": "stderr",
     "output_type": "stream",
     "text": [
      "Epoch [49/100]: 100%|██████████| 159/159 [00:19<00:00,  8.24it/s, loss=0.556]\n"
     ]
    },
    {
     "name": "stdout",
     "output_type": "stream",
     "text": [
      "Epoch 50/100 => Train Loss: 0.6039,\n",
      "Validation Loss: 0.6946 , Validate Accuracy 0.9311 \n",
      "------------------------------------------------------------------------------------------\n"
     ]
    },
    {
     "name": "stderr",
     "output_type": "stream",
     "text": [
      "Epoch [50/100]: 100%|██████████| 159/159 [00:19<00:00,  8.36it/s, loss=0.702]\n"
     ]
    },
    {
     "name": "stdout",
     "output_type": "stream",
     "text": [
      "Decrease decoder learning rate to 0.0001\n",
      "Epoch 51/100 => Train Loss: 0.6039,\n",
      "Validation Loss: 0.5645 , Validate Accuracy 0.9229 \n",
      "------------------------------------------------------------------------------------------\n"
     ]
    },
    {
     "name": "stderr",
     "output_type": "stream",
     "text": [
      "Epoch [51/100]: 100%|██████████| 159/159 [00:19<00:00,  8.29it/s, loss=0.556]\n"
     ]
    },
    {
     "name": "stdout",
     "output_type": "stream",
     "text": [
      "Epoch 52/100 => Train Loss: 0.6015,\n",
      "Validation Loss: 0.6549 , Validate Accuracy 0.9284 \n",
      "------------------------------------------------------------------------------------------\n"
     ]
    },
    {
     "name": "stderr",
     "output_type": "stream",
     "text": [
      "Epoch [52/100]: 100%|██████████| 159/159 [00:19<00:00,  8.30it/s, loss=0.698]\n"
     ]
    },
    {
     "name": "stdout",
     "output_type": "stream",
     "text": [
      "Epoch 53/100 => Train Loss: 0.6018,\n",
      "Validation Loss: 0.5576 , Validate Accuracy 0.9366 \n",
      "------------------------------------------------------------------------------------------\n"
     ]
    },
    {
     "name": "stderr",
     "output_type": "stream",
     "text": [
      "Epoch [53/100]: 100%|██████████| 159/159 [00:19<00:00,  8.23it/s, loss=0.561]\n"
     ]
    },
    {
     "name": "stdout",
     "output_type": "stream",
     "text": [
      "Epoch 54/100 => Train Loss: 0.6011,\n",
      "Validation Loss: 0.6533 , Validate Accuracy 0.9284 \n",
      "------------------------------------------------------------------------------------------\n"
     ]
    },
    {
     "name": "stderr",
     "output_type": "stream",
     "text": [
      "Epoch [54/100]: 100%|██████████| 159/159 [00:19<00:00,  8.29it/s, loss=0.697]\n"
     ]
    },
    {
     "name": "stdout",
     "output_type": "stream",
     "text": [
      "Epoch 55/100 => Train Loss: 0.6018,\n",
      "Validation Loss: 0.9215 , Validate Accuracy 0.9284 \n",
      "------------------------------------------------------------------------------------------\n"
     ]
    },
    {
     "name": "stderr",
     "output_type": "stream",
     "text": [
      "Epoch [55/100]: 100%|██████████| 159/159 [00:19<00:00,  8.33it/s, loss=0.561]\n"
     ]
    },
    {
     "name": "stdout",
     "output_type": "stream",
     "text": [
      "Epoch 56/100 => Train Loss: 0.6015,\n",
      "Validation Loss: 0.6568 , Validate Accuracy 0.9256 \n",
      "------------------------------------------------------------------------------------------\n"
     ]
    },
    {
     "name": "stderr",
     "output_type": "stream",
     "text": [
      "Epoch [56/100]: 100%|██████████| 159/159 [00:19<00:00,  8.30it/s, loss=0.558]\n"
     ]
    },
    {
     "name": "stdout",
     "output_type": "stream",
     "text": [
      "Epoch 57/100 => Train Loss: 0.6004,\n",
      "Validation Loss: 0.7322 , Validate Accuracy 0.9284 \n",
      "------------------------------------------------------------------------------------------\n"
     ]
    },
    {
     "name": "stderr",
     "output_type": "stream",
     "text": [
      "Epoch [57/100]: 100%|██████████| 159/159 [00:18<00:00,  8.37it/s, loss=0.559]\n"
     ]
    },
    {
     "name": "stdout",
     "output_type": "stream",
     "text": [
      "Epoch 58/100 => Train Loss: 0.6008,\n",
      "Validation Loss: 0.6522 , Validate Accuracy 0.9284 \n",
      "------------------------------------------------------------------------------------------\n"
     ]
    },
    {
     "name": "stderr",
     "output_type": "stream",
     "text": [
      "Epoch [58/100]: 100%|██████████| 159/159 [00:19<00:00,  8.25it/s, loss=0.557]\n"
     ]
    },
    {
     "name": "stdout",
     "output_type": "stream",
     "text": [
      "Epoch 59/100 => Train Loss: 0.6007,\n",
      "Validation Loss: 0.6374 , Validate Accuracy 0.9256 \n",
      "------------------------------------------------------------------------------------------\n"
     ]
    },
    {
     "name": "stderr",
     "output_type": "stream",
     "text": [
      "Epoch [59/100]: 100%|██████████| 159/159 [00:19<00:00,  8.32it/s, loss=0.701]\n"
     ]
    },
    {
     "name": "stdout",
     "output_type": "stream",
     "text": [
      "Epoch 60/100 => Train Loss: 0.6017,\n",
      "Validation Loss: 0.5605 , Validate Accuracy 0.9284 \n",
      "------------------------------------------------------------------------------------------\n"
     ]
    },
    {
     "name": "stderr",
     "output_type": "stream",
     "text": [
      "Epoch [60/100]: 100%|██████████| 159/159 [00:18<00:00,  8.38it/s, loss=0.56] \n"
     ]
    },
    {
     "name": "stdout",
     "output_type": "stream",
     "text": [
      "Epoch 61/100 => Train Loss: 0.6011,\n",
      "Validation Loss: 0.6561 , Validate Accuracy 0.9256 \n",
      "------------------------------------------------------------------------------------------\n"
     ]
    },
    {
     "name": "stderr",
     "output_type": "stream",
     "text": [
      "Epoch [61/100]: 100%|██████████| 159/159 [00:19<00:00,  8.25it/s, loss=0.565]\n"
     ]
    },
    {
     "name": "stdout",
     "output_type": "stream",
     "text": [
      "Epoch 62/100 => Train Loss: 0.6005,\n",
      "Validation Loss: 0.5709 , Validate Accuracy 0.9311 \n",
      "------------------------------------------------------------------------------------------\n"
     ]
    },
    {
     "name": "stderr",
     "output_type": "stream",
     "text": [
      "Epoch [62/100]: 100%|██████████| 159/159 [00:19<00:00,  8.28it/s, loss=0.559]\n"
     ]
    },
    {
     "name": "stdout",
     "output_type": "stream",
     "text": [
      "Epoch 63/100 => Train Loss: 0.6002,\n",
      "Validation Loss: 0.6310 , Validate Accuracy 0.9366 \n",
      "------------------------------------------------------------------------------------------\n"
     ]
    },
    {
     "name": "stderr",
     "output_type": "stream",
     "text": [
      "Epoch [63/100]: 100%|██████████| 159/159 [00:19<00:00,  8.24it/s, loss=0.562]\n"
     ]
    },
    {
     "name": "stdout",
     "output_type": "stream",
     "text": [
      "Epoch 64/100 => Train Loss: 0.6003,\n",
      "Validation Loss: 0.7713 , Validate Accuracy 0.9284 \n",
      "------------------------------------------------------------------------------------------\n"
     ]
    },
    {
     "name": "stderr",
     "output_type": "stream",
     "text": [
      "Epoch [64/100]: 100%|██████████| 159/159 [00:19<00:00,  8.32it/s, loss=0.703]\n"
     ]
    },
    {
     "name": "stdout",
     "output_type": "stream",
     "text": [
      "Epoch 65/100 => Train Loss: 0.6016,\n",
      "Validation Loss: 0.7510 , Validate Accuracy 0.9366 \n",
      "------------------------------------------------------------------------------------------\n"
     ]
    },
    {
     "name": "stderr",
     "output_type": "stream",
     "text": [
      "Epoch [65/100]: 100%|██████████| 159/159 [00:19<00:00,  8.16it/s, loss=0.695]\n"
     ]
    },
    {
     "name": "stdout",
     "output_type": "stream",
     "text": [
      "Epoch 66/100 => Train Loss: 0.6015,\n",
      "Validation Loss: 0.5594 , Validate Accuracy 0.9256 \n",
      "------------------------------------------------------------------------------------------\n"
     ]
    },
    {
     "name": "stderr",
     "output_type": "stream",
     "text": [
      "Epoch [66/100]: 100%|██████████| 159/159 [00:19<00:00,  8.28it/s, loss=0.56] \n"
     ]
    },
    {
     "name": "stdout",
     "output_type": "stream",
     "text": [
      "Epoch 67/100 => Train Loss: 0.6005,\n",
      "Validation Loss: 0.7345 , Validate Accuracy 0.9366 \n",
      "------------------------------------------------------------------------------------------\n"
     ]
    },
    {
     "name": "stderr",
     "output_type": "stream",
     "text": [
      "Epoch [67/100]: 100%|██████████| 159/159 [00:19<00:00,  8.31it/s, loss=0.557]\n"
     ]
    },
    {
     "name": "stdout",
     "output_type": "stream",
     "text": [
      "Epoch 68/100 => Train Loss: 0.6010,\n",
      "Validation Loss: 0.6720 , Validate Accuracy 0.9339 \n",
      "------------------------------------------------------------------------------------------\n"
     ]
    },
    {
     "name": "stderr",
     "output_type": "stream",
     "text": [
      "Epoch [68/100]: 100%|██████████| 159/159 [00:19<00:00,  8.33it/s, loss=0.571]\n"
     ]
    },
    {
     "name": "stdout",
     "output_type": "stream",
     "text": [
      "Epoch 69/100 => Train Loss: 0.6002,\n",
      "Validation Loss: 0.7594 , Validate Accuracy 0.9284 \n",
      "------------------------------------------------------------------------------------------\n"
     ]
    },
    {
     "name": "stderr",
     "output_type": "stream",
     "text": [
      "Epoch [72/100]: 100%|██████████| 159/159 [00:18<00:00,  8.39it/s, loss=0.56] \n"
     ]
    },
    {
     "name": "stdout",
     "output_type": "stream",
     "text": [
      "Epoch 73/100 => Train Loss: 0.6007,\n",
      "Validation Loss: 0.6513 , Validate Accuracy 0.9366 \n",
      "------------------------------------------------------------------------------------------\n"
     ]
    },
    {
     "name": "stderr",
     "output_type": "stream",
     "text": [
      "Epoch [73/100]: 100%|██████████| 159/159 [00:19<00:00,  8.29it/s, loss=0.561]\n"
     ]
    },
    {
     "name": "stdout",
     "output_type": "stream",
     "text": [
      "Epoch 74/100 => Train Loss: 0.6002,\n",
      "Validation Loss: 0.6561 , Validate Accuracy 0.9284 \n",
      "------------------------------------------------------------------------------------------\n"
     ]
    },
    {
     "name": "stderr",
     "output_type": "stream",
     "text": [
      "Epoch [74/100]: 100%|██████████| 159/159 [00:19<00:00,  8.30it/s, loss=0.56] \n"
     ]
    },
    {
     "name": "stdout",
     "output_type": "stream",
     "text": [
      "Epoch 75/100 => Train Loss: 0.6002,\n",
      "Validation Loss: 0.6533 , Validate Accuracy 0.9284 \n",
      "------------------------------------------------------------------------------------------\n"
     ]
    },
    {
     "name": "stderr",
     "output_type": "stream",
     "text": [
      "Epoch [75/100]: 100%|██████████| 159/159 [00:19<00:00,  8.24it/s, loss=0.57] \n"
     ]
    },
    {
     "name": "stdout",
     "output_type": "stream",
     "text": [
      "Epoch 76/100 => Train Loss: 0.6004,\n",
      "Validation Loss: 0.6946 , Validate Accuracy 0.9311 \n",
      "------------------------------------------------------------------------------------------\n"
     ]
    },
    {
     "name": "stderr",
     "output_type": "stream",
     "text": [
      "Epoch [76/100]: 100%|██████████| 159/159 [00:18<00:00,  8.40it/s, loss=0.561]\n"
     ]
    },
    {
     "name": "stdout",
     "output_type": "stream",
     "text": [
      "Epoch 77/100 => Train Loss: 0.5999,\n",
      "Validation Loss: 0.6803 , Validate Accuracy 0.9256 \n",
      "------------------------------------------------------------------------------------------\n"
     ]
    },
    {
     "name": "stderr",
     "output_type": "stream",
     "text": [
      "Epoch [77/100]: 100%|██████████| 159/159 [00:19<00:00,  8.30it/s, loss=0.555]\n"
     ]
    },
    {
     "name": "stdout",
     "output_type": "stream",
     "text": [
      "Epoch 78/100 => Train Loss: 0.6005,\n",
      "Validation Loss: 0.5790 , Validate Accuracy 0.9256 \n",
      "------------------------------------------------------------------------------------------\n"
     ]
    },
    {
     "name": "stderr",
     "output_type": "stream",
     "text": [
      "Epoch [78/100]: 100%|██████████| 159/159 [00:18<00:00,  8.53it/s, loss=0.559]\n"
     ]
    },
    {
     "name": "stdout",
     "output_type": "stream",
     "text": [
      "Model saved!\n",
      "Epoch 79/100 => Train Loss: 0.6000,\n",
      "Validation Loss: 0.6004 , Validate Accuracy 0.9421 \n",
      "------------------------------------------------------------------------------------------\n"
     ]
    },
    {
     "name": "stderr",
     "output_type": "stream",
     "text": [
      "Epoch [79/100]: 100%|██████████| 159/159 [00:19<00:00,  8.34it/s, loss=0.556]\n"
     ]
    },
    {
     "name": "stdout",
     "output_type": "stream",
     "text": [
      "Epoch 80/100 => Train Loss: 0.6002,\n",
      "Validation Loss: 0.7480 , Validate Accuracy 0.9311 \n",
      "------------------------------------------------------------------------------------------\n"
     ]
    },
    {
     "name": "stderr",
     "output_type": "stream",
     "text": [
      "Epoch [80/100]: 100%|██████████| 159/159 [00:19<00:00,  8.25it/s, loss=0.56] \n"
     ]
    },
    {
     "name": "stdout",
     "output_type": "stream",
     "text": [
      "Epoch 81/100 => Train Loss: 0.5999,\n",
      "Validation Loss: 0.6473 , Validate Accuracy 0.9366 \n",
      "------------------------------------------------------------------------------------------\n"
     ]
    },
    {
     "name": "stderr",
     "output_type": "stream",
     "text": [
      "Epoch [81/100]: 100%|██████████| 159/159 [00:19<00:00,  8.30it/s, loss=0.559]\n"
     ]
    },
    {
     "name": "stdout",
     "output_type": "stream",
     "text": [
      "Epoch 82/100 => Train Loss: 0.6001,\n",
      "Validation Loss: 0.8274 , Validate Accuracy 0.9284 \n",
      "------------------------------------------------------------------------------------------\n"
     ]
    },
    {
     "name": "stderr",
     "output_type": "stream",
     "text": [
      "Epoch [82/100]: 100%|██████████| 159/159 [00:18<00:00,  8.40it/s, loss=0.552]\n"
     ]
    },
    {
     "name": "stdout",
     "output_type": "stream",
     "text": [
      "Epoch 83/100 => Train Loss: 0.5999,\n",
      "Validation Loss: 0.6474 , Validate Accuracy 0.9284 \n",
      "------------------------------------------------------------------------------------------\n"
     ]
    },
    {
     "name": "stderr",
     "output_type": "stream",
     "text": [
      "Epoch [83/100]: 100%|██████████| 159/159 [00:19<00:00,  8.33it/s, loss=0.702]\n"
     ]
    },
    {
     "name": "stdout",
     "output_type": "stream",
     "text": [
      "Epoch 84/100 => Train Loss: 0.6001,\n",
      "Validation Loss: 0.6792 , Validate Accuracy 0.9339 \n",
      "------------------------------------------------------------------------------------------\n"
     ]
    },
    {
     "name": "stderr",
     "output_type": "stream",
     "text": [
      "Epoch [84/100]: 100%|██████████| 159/159 [00:19<00:00,  8.28it/s, loss=0.561]\n"
     ]
    },
    {
     "name": "stdout",
     "output_type": "stream",
     "text": [
      "Epoch 85/100 => Train Loss: 0.5996,\n",
      "Validation Loss: 0.6553 , Validate Accuracy 0.9311 \n",
      "------------------------------------------------------------------------------------------\n"
     ]
    },
    {
     "name": "stderr",
     "output_type": "stream",
     "text": [
      "Epoch [85/100]: 100%|██████████| 159/159 [00:18<00:00,  8.38it/s, loss=0.557]\n"
     ]
    },
    {
     "name": "stdout",
     "output_type": "stream",
     "text": [
      "Epoch 86/100 => Train Loss: 0.5997,\n",
      "Validation Loss: 0.5643 , Validate Accuracy 0.9256 \n",
      "------------------------------------------------------------------------------------------\n"
     ]
    },
    {
     "name": "stderr",
     "output_type": "stream",
     "text": [
      "Epoch [86/100]: 100%|██████████| 159/159 [00:19<00:00,  8.31it/s, loss=0.56] \n"
     ]
    },
    {
     "name": "stdout",
     "output_type": "stream",
     "text": [
      "Epoch 87/100 => Train Loss: 0.5998,\n",
      "Validation Loss: 0.7352 , Validate Accuracy 0.9284 \n",
      "------------------------------------------------------------------------------------------\n"
     ]
    },
    {
     "name": "stderr",
     "output_type": "stream",
     "text": [
      "Epoch [87/100]: 100%|██████████| 159/159 [00:19<00:00,  8.22it/s, loss=0.556]\n"
     ]
    },
    {
     "name": "stdout",
     "output_type": "stream",
     "text": [
      "Epoch 88/100 => Train Loss: 0.5997,\n",
      "Validation Loss: 0.7359 , Validate Accuracy 0.9284 \n",
      "------------------------------------------------------------------------------------------\n"
     ]
    },
    {
     "name": "stderr",
     "output_type": "stream",
     "text": [
      "Epoch [88/100]: 100%|██████████| 159/159 [00:19<00:00,  8.22it/s, loss=0.702]\n"
     ]
    },
    {
     "name": "stdout",
     "output_type": "stream",
     "text": [
      "Epoch 89/100 => Train Loss: 0.6006,\n",
      "Validation Loss: 0.6621 , Validate Accuracy 0.9311 \n",
      "------------------------------------------------------------------------------------------\n"
     ]
    },
    {
     "name": "stderr",
     "output_type": "stream",
     "text": [
      "Epoch [89/100]: 100%|██████████| 159/159 [00:18<00:00,  8.39it/s, loss=0.559]\n"
     ]
    },
    {
     "name": "stdout",
     "output_type": "stream",
     "text": [
      "Epoch 90/100 => Train Loss: 0.5997,\n",
      "Validation Loss: 0.5570 , Validate Accuracy 0.9311 \n",
      "------------------------------------------------------------------------------------------\n"
     ]
    },
    {
     "name": "stderr",
     "output_type": "stream",
     "text": [
      "Epoch [90/100]: 100%|██████████| 159/159 [00:18<00:00,  8.49it/s, loss=0.559]\n"
     ]
    },
    {
     "name": "stdout",
     "output_type": "stream",
     "text": [
      "Epoch 91/100 => Train Loss: 0.5996,\n",
      "Validation Loss: 0.6507 , Validate Accuracy 0.9284 \n",
      "------------------------------------------------------------------------------------------\n"
     ]
    },
    {
     "name": "stderr",
     "output_type": "stream",
     "text": [
      "Epoch [91/100]: 100%|██████████| 159/159 [00:18<00:00,  8.41it/s, loss=0.557]\n"
     ]
    },
    {
     "name": "stdout",
     "output_type": "stream",
     "text": [
      "Epoch 92/100 => Train Loss: 0.5999,\n",
      "Validation Loss: 0.5590 , Validate Accuracy 0.9339 \n",
      "------------------------------------------------------------------------------------------\n"
     ]
    },
    {
     "name": "stderr",
     "output_type": "stream",
     "text": [
      "Epoch [92/100]: 100%|██████████| 159/159 [00:19<00:00,  8.31it/s, loss=0.558]\n"
     ]
    },
    {
     "name": "stdout",
     "output_type": "stream",
     "text": [
      "Epoch 93/100 => Train Loss: 0.5994,\n",
      "Validation Loss: 0.5636 , Validate Accuracy 0.9311 \n",
      "------------------------------------------------------------------------------------------\n"
     ]
    },
    {
     "name": "stderr",
     "output_type": "stream",
     "text": [
      "Epoch [93/100]: 100%|██████████| 159/159 [00:19<00:00,  8.31it/s, loss=0.705]\n"
     ]
    },
    {
     "name": "stdout",
     "output_type": "stream",
     "text": [
      "Epoch 94/100 => Train Loss: 0.6002,\n",
      "Validation Loss: 0.6508 , Validate Accuracy 0.9311 \n",
      "------------------------------------------------------------------------------------------\n"
     ]
    },
    {
     "name": "stderr",
     "output_type": "stream",
     "text": [
      "Epoch [94/100]: 100%|██████████| 159/159 [00:18<00:00,  8.57it/s, loss=0.561]\n"
     ]
    },
    {
     "name": "stdout",
     "output_type": "stream",
     "text": [
      "Epoch 95/100 => Train Loss: 0.5994,\n",
      "Validation Loss: 0.5759 , Validate Accuracy 0.9284 \n",
      "------------------------------------------------------------------------------------------\n"
     ]
    },
    {
     "name": "stderr",
     "output_type": "stream",
     "text": [
      "Epoch [95/100]: 100%|██████████| 159/159 [00:19<00:00,  8.24it/s, loss=0.557]\n"
     ]
    },
    {
     "name": "stdout",
     "output_type": "stream",
     "text": [
      "Epoch 96/100 => Train Loss: 0.5992,\n",
      "Validation Loss: 0.6533 , Validate Accuracy 0.9284 \n",
      "------------------------------------------------------------------------------------------\n"
     ]
    },
    {
     "name": "stderr",
     "output_type": "stream",
     "text": [
      "Epoch [96/100]: 100%|██████████| 159/159 [00:19<00:00,  8.23it/s, loss=0.701]\n"
     ]
    },
    {
     "name": "stdout",
     "output_type": "stream",
     "text": [
      "Epoch 97/100 => Train Loss: 0.5996,\n",
      "Validation Loss: 0.5736 , Validate Accuracy 0.9256 \n",
      "------------------------------------------------------------------------------------------\n"
     ]
    },
    {
     "name": "stderr",
     "output_type": "stream",
     "text": [
      "Epoch [97/100]: 100%|██████████| 159/159 [00:19<00:00,  8.31it/s, loss=0.7]  \n"
     ]
    },
    {
     "name": "stdout",
     "output_type": "stream",
     "text": [
      "Epoch 98/100 => Train Loss: 0.5997,\n",
      "Validation Loss: 0.6476 , Validate Accuracy 0.9311 \n",
      "------------------------------------------------------------------------------------------\n"
     ]
    },
    {
     "name": "stderr",
     "output_type": "stream",
     "text": [
      "Epoch [98/100]: 100%|██████████| 159/159 [00:19<00:00,  8.30it/s, loss=0.56] \n"
     ]
    },
    {
     "name": "stdout",
     "output_type": "stream",
     "text": [
      "Epoch 99/100 => Train Loss: 0.5997,\n",
      "Validation Loss: 0.7402 , Validate Accuracy 0.9284 \n",
      "------------------------------------------------------------------------------------------\n"
     ]
    },
    {
     "name": "stderr",
     "output_type": "stream",
     "text": [
      "Epoch [99/100]: 100%|██████████| 159/159 [00:18<00:00,  8.43it/s, loss=0.698]\n"
     ]
    },
    {
     "name": "stdout",
     "output_type": "stream",
     "text": [
      "Epoch 100/100 => Train Loss: 0.5997,\n",
      "Validation Loss: 0.6485 , Validate Accuracy 0.9284 \n",
      "------------------------------------------------------------------------------------------\n"
     ]
    }
   ],
   "source": [
    "from train import fit\n",
    "model , loss_train , loss_val , loss_acc = fit(train_loader=train_loader,\n",
    "                                               val_loader=val_loader,\n",
    "                                               loss_func=loss_func , \n",
    "                                               model=None,\n",
    "                                               num_epochs=100 , \n",
    "                                               learning_rate=0.00025 , \n",
    "                                               model_save=True , \n",
    "                                               update_lr=True,\n",
    "                                               device=DEVICE)"
   ]
  },
  {
   "cell_type": "code",
   "execution_count": 6,
   "id": "e2f052d1",
   "metadata": {},
   "outputs": [
    {
     "data": {
      "image/png": "[encoded data removed]",
      "text/plain": [
       "<Figure size 1200x600 with 1 Axes>"
      ]
     },
     "metadata": {},
     "output_type": "display_data"
    },
    {
     "data": {
      "image/png": "[encoded data removed]",
      "text/plain": [
       "<Figure size 1200x600 with 1 Axes>"
      ]
     },
     "metadata": {},
     "output_type": "display_data"
    }
   ],
   "source": [
    "loss_train_1 = loss_train\n",
    "loss_val_1 = loss_val \n",
    "loss_acc_1 = loss_acc\n",
    "\n",
    "history_plot(loss_train_1,[loss_val_1[i].item() for i in range(len(loss_val_1))],'EntropyLoss')\n",
    "history_plot(loss_acc_1,loss_acc_1,'accuracy')"
   ]
  },
  {
   "cell_type": "markdown",
   "id": "1cea0c8f",
   "metadata": {},
   "source": [
    "# **Unet Classifier**"
   ]
  },
  {
   "cell_type": "code",
   "execution_count": 27,
   "id": "f0089307",
   "metadata": {},
   "outputs": [
    {
     "data": {
      "text/html": [
       "<div>\n",
       "<style scoped>\n",
       "    .dataframe tbody tr th:only-of-type {\n",
       "        vertical-align: middle;\n",
       "    }\n",
       "\n",
       "    .dataframe tbody tr th {\n",
       "        vertical-align: top;\n",
       "    }\n",
       "\n",
       "    .dataframe thead th {\n",
       "        text-align: right;\n",
       "    }\n",
       "</style>\n",
       "<table border=\"1\" class=\"dataframe\">\n",
       "  <thead>\n",
       "    <tr style=\"text-align: right;\">\n",
       "      <th></th>\n",
       "      <th>filename</th>\n",
       "      <th>mask_filename</th>\n",
       "      <th>category</th>\n",
       "      <th>class</th>\n",
       "    </tr>\n",
       "  </thead>\n",
       "  <tbody>\n",
       "    <tr>\n",
       "      <th>0</th>\n",
       "      <td>../dataset/image-all/85060120-183.png</td>\n",
       "      <td>../dataset/unet/images-mark/85060120-183.png</td>\n",
       "      <td>benign</td>\n",
       "      <td>1</td>\n",
       "    </tr>\n",
       "    <tr>\n",
       "      <th>1</th>\n",
       "      <td>../dataset/image-all/756fe311-a7.png</td>\n",
       "      <td>../dataset/unet/images-mark/756fe311-a7.png</td>\n",
       "      <td>benign</td>\n",
       "      <td>1</td>\n",
       "    </tr>\n",
       "    <tr>\n",
       "      <th>2</th>\n",
       "      <td>../dataset/image-all/4dd9d7f3-jg.png</td>\n",
       "      <td>../dataset/unet/images-mark/4dd9d7f3-jg.png</td>\n",
       "      <td>benign</td>\n",
       "      <td>1</td>\n",
       "    </tr>\n",
       "    <tr>\n",
       "      <th>3</th>\n",
       "      <td>../dataset/image-all/bbcc9757-nq.png</td>\n",
       "      <td>../dataset/unet/images-mark/bbcc9757-nq.png</td>\n",
       "      <td>benign</td>\n",
       "      <td>1</td>\n",
       "    </tr>\n",
       "    <tr>\n",
       "      <th>4</th>\n",
       "      <td>../dataset/image-all/ee340ded-qw.png</td>\n",
       "      <td>../dataset/unet/images-mark/ee340ded-qw.png</td>\n",
       "      <td>benign</td>\n",
       "      <td>1</td>\n",
       "    </tr>\n",
       "  </tbody>\n",
       "</table>\n",
       "</div>"
      ],
      "text/plain": [
       "                                filename  \\\n",
       "0  ../dataset/image-all/85060120-183.png   \n",
       "1   ../dataset/image-all/756fe311-a7.png   \n",
       "2   ../dataset/image-all/4dd9d7f3-jg.png   \n",
       "3   ../dataset/image-all/bbcc9757-nq.png   \n",
       "4   ../dataset/image-all/ee340ded-qw.png   \n",
       "\n",
       "                                  mask_filename category  class  \n",
       "0  ../dataset/unet/images-mark/85060120-183.png   benign      1  \n",
       "1   ../dataset/unet/images-mark/756fe311-a7.png   benign      1  \n",
       "2   ../dataset/unet/images-mark/4dd9d7f3-jg.png   benign      1  \n",
       "3   ../dataset/unet/images-mark/bbcc9757-nq.png   benign      1  \n",
       "4   ../dataset/unet/images-mark/ee340ded-qw.png   benign      1  "
      ]
     },
     "execution_count": 27,
     "metadata": {},
     "output_type": "execute_result"
    }
   ],
   "source": [
    "test_df = encoder_class(test_df)\n",
    "test_df.head(5)"
   ]
  },
  {
   "cell_type": "code",
   "execution_count": 55,
   "id": "b3300872",
   "metadata": {},
   "outputs": [
    {
     "data": {
      "text/plain": [
       "<All keys matched successfully>"
      ]
     },
     "execution_count": 55,
     "metadata": {},
     "output_type": "execute_result"
    }
   ],
   "source": [
    "# Load Model \"UnetClassifier\" form kernel In[4]\n",
    "from Unet import UnetClassifier\n",
    "\n",
    "loaded_model_state_dict = torch.load('../example/Unet/save-model/full-epochs-model-unet-classifier.pth')\n",
    "model = UnetClassifier().to(DEVICE)\n",
    "model.load_state_dict(loaded_model_state_dict)"
   ]
  },
  {
   "cell_type": "code",
   "execution_count": 56,
   "id": "42b8bcee",
   "metadata": {},
   "outputs": [
    {
     "name": "stdout",
     "output_type": "stream",
     "text": [
      "test \n",
      "entropyloss:0.7264 | accuracy:0.9242 | f1-score:0.9236| precision:0.9245 | recall:0.9242 | auc:0.9509 \n"
     ]
    }
   ],
   "source": [
    "# Metrics Import\n",
    "from sklearn.metrics import confusion_matrix\n",
    "from torcheval.metrics.functional import multiclass_f1_score\n",
    "from torcheval.metrics.functional import multiclass_precision\n",
    "from torcheval.metrics.functional.classification import multiclass_recall\n",
    "\n",
    "from torcheval.metrics.functional import multiclass_accuracy\n",
    "from sklearn import metrics\n",
    "\n",
    "\n",
    "test_loader = DataLoad.get_data(test_df,16)\n",
    "\n",
    "num_class = 3\n",
    "total_samples = 0\n",
    "total_accuracy = 0  \n",
    "\n",
    "y_true = []\n",
    "y_pred = []\n",
    "\n",
    "for image, label in test_loader:\n",
    "    \n",
    "    # define image and label dataset to 'cuda'\n",
    "    image ,label = image.to(DEVICE) ,label.to(DEVICE)\n",
    "    \n",
    "    # model pred\n",
    "    out = model(image)\n",
    "    \n",
    "    # get loss\n",
    "    loss = loss_func(out, label)\n",
    "    \n",
    "    # เลือกสมาชิกใน tensor ที่มีความน่าจะเป็นสูงที่สุดจากชั้น output ของเลเยอร์ softmax ที่ส่งออกเป็นในรูป [nun_class] \n",
    "    output = (torch.max(torch.exp(out), 1)[1]).data.cpu().numpy()\n",
    "    \n",
    "    \n",
    "    labels = label.data.cpu().numpy()\n",
    "    \n",
    "    y_pred.extend(output) \n",
    "    y_true.extend(labels) \n",
    "    \n",
    "    total_samples += label.size(0)\n",
    "\n",
    "eva = {\"val_loss\": loss}\n",
    "\n",
    "# auc calculate\n",
    "fpr, tpr, thresholds = metrics.roc_curve(np.array(y_pred),np.array(y_true) , pos_label=2)\n",
    "auc = metrics.auc(fpr, tpr)\n",
    "\n",
    "# set y_pred , y_true to tensor for torcheval\n",
    "y_pred = torch.tensor(y_pred)\n",
    "y_true = torch.tensor(y_true)\n",
    "\n",
    "# accuracy \n",
    "acc = multiclass_accuracy(y_pred, y_true , average=\"macro\" , num_classes=num_class)\n",
    "\n",
    "# f1-score\n",
    "f1 = multiclass_f1_score(y_pred, y_true , average=\"macro\" , num_classes=num_class)\n",
    "\n",
    "# precision\n",
    "prec = multiclass_precision(y_pred, y_true , average=\"macro\", num_classes=num_class)\n",
    "\n",
    "# recall\n",
    "recall = multiclass_recall(y_pred, y_true , average=\"macro\", num_classes=num_class)\n",
    "\n",
    "print(f\"test \\nentropyloss:{eva['val_loss']:.4f} | accuracy:{acc.item():.4f} | f1-score:{f1.item():.4f}\"\n",
    "      f\"| precision:{prec.item():.4f} | recall:{recall.item():.4f} | auc:{auc:.4f} \")"
   ]
  },
  {
   "cell_type": "code",
   "execution_count": 57,
   "id": "ba3bb1cc",
   "metadata": {},
   "outputs": [
    {
     "name": "stdout",
     "output_type": "stream",
     "text": [
      "[[241   1   0]\n",
      " [  7 221  14]\n",
      " [  7  26 209]]\n"
     ]
    },
    {
     "data": {
      "text/html": [
       "<div>\n",
       "<style scoped>\n",
       "    .dataframe tbody tr th:only-of-type {\n",
       "        vertical-align: middle;\n",
       "    }\n",
       "\n",
       "    .dataframe tbody tr th {\n",
       "        vertical-align: top;\n",
       "    }\n",
       "\n",
       "    .dataframe thead th {\n",
       "        text-align: right;\n",
       "    }\n",
       "</style>\n",
       "<table border=\"1\" class=\"dataframe\">\n",
       "  <thead>\n",
       "    <tr style=\"text-align: right;\">\n",
       "      <th></th>\n",
       "      <th>benign</th>\n",
       "      <th>malignant</th>\n",
       "      <th>normal</th>\n",
       "    </tr>\n",
       "  </thead>\n",
       "  <tbody>\n",
       "    <tr>\n",
       "      <th>benign</th>\n",
       "      <td>0.995868</td>\n",
       "      <td>0.004132</td>\n",
       "      <td>0.000000</td>\n",
       "    </tr>\n",
       "    <tr>\n",
       "      <th>malignant</th>\n",
       "      <td>0.028926</td>\n",
       "      <td>0.913223</td>\n",
       "      <td>0.057851</td>\n",
       "    </tr>\n",
       "    <tr>\n",
       "      <th>normal</th>\n",
       "      <td>0.028926</td>\n",
       "      <td>0.107438</td>\n",
       "      <td>0.863636</td>\n",
       "    </tr>\n",
       "  </tbody>\n",
       "</table>\n",
       "</div>"
      ],
      "text/plain": [
       "             benign  malignant    normal\n",
       "benign     0.995868   0.004132  0.000000\n",
       "malignant  0.028926   0.913223  0.057851\n",
       "normal     0.028926   0.107438  0.863636"
      ]
     },
     "execution_count": 57,
     "metadata": {},
     "output_type": "execute_result"
    }
   ],
   "source": [
    "class_map = {1:'benign', 2:'malignant', 0:'normal'}\n",
    "cf_matrix = confusion_matrix(y_true, y_pred)\n",
    "df_cm = pd.DataFrame(cf_matrix / np.sum(cf_matrix, axis=1)[:, None], index = [class_map[i] for i in class_map], # \n",
    "                     columns = [class_map[i] for i in class_map])\n",
    "print(cf_matrix)\n",
    "df_cm"
   ]
  },
  {
   "cell_type": "markdown",
   "id": "8693a62c",
   "metadata": {},
   "source": [
    "# **ResUnetClassifier**\n",
    "\n",
    "ref : https://github.com/Dont-HurtMe/RES-UnetClassifier.git"
   ]
  },
  {
   "cell_type": "code",
   "execution_count": 39,
   "id": "a2da08a6",
   "metadata": {},
   "outputs": [],
   "source": [
    "import torch\n",
    "from torchvision import transforms\n",
    "from torch.utils.data import DataLoader\n",
    "from PIL import Image\n",
    "\n",
    "# generate & transform data\n",
    "test_dataset = CustomGenerator(test_df, transform=transform)\n",
    "\n",
    "# create DataLoader\n",
    "batch_size = 32\n",
    "test_loader = DataLoader(test_dataset, batch_size=batch_size, shuffle=False)"
   ]
  },
  {
   "cell_type": "code",
   "execution_count": 42,
   "id": "0307fa86",
   "metadata": {},
   "outputs": [],
   "source": [
    "# Load Classifier model\n",
    "classifier = torch.load('../example/Unet+ResnetClassifier/bestmodel-resnet50-classification.pth')"
   ]
  },
  {
   "cell_type": "code",
   "execution_count": 44,
   "id": "452878e3",
   "metadata": {},
   "outputs": [
    {
     "name": "stdout",
     "output_type": "stream",
     "text": [
      "test \n",
      "entropyloss:0.0203 | accuracy:0.9793 | f1-score:0.9793| precision:0.9795 | recall:0.9793 | auc:0.9876 \n"
     ]
    }
   ],
   "source": [
    "num_class = 3\n",
    "total_samples = 0\n",
    "total_accuracy = 0  \n",
    "\n",
    "y_true = []\n",
    "y_pred = []\n",
    "\n",
    "for image, label in test_loader:\n",
    "        \n",
    "    image ,label = image.to(DEVICE) ,label.to(DEVICE)\n",
    "        \n",
    "    out = classifier(image)\n",
    "    loss = loss_func(out, label)\n",
    "    #acc = accuracy(out, label)\n",
    "    output = (torch.max(torch.exp(out), 1)[1]).data.cpu().numpy()\n",
    "    \n",
    "    \n",
    "    labels = label.data.cpu().numpy()\n",
    "    \n",
    "    y_pred.extend(output) \n",
    "    y_true.extend(labels) \n",
    "    \n",
    "    total_samples += label.size(0)\n",
    "    #total_accuracy += acc * label.size(0)\n",
    "\n",
    "overall_accuracy = total_accuracy / total_samples\n",
    "eva = {\"val_loss\": loss}\n",
    "\n",
    "\n",
    "fpr, tpr, thresholds = metrics.roc_curve(np.array(y_pred),np.array(y_true) , pos_label=2)\n",
    "auc = metrics.auc(fpr, tpr)\n",
    "\n",
    "y_pred = torch.tensor(y_pred)\n",
    "y_true = torch.tensor(y_true)\n",
    "\n",
    "acc = multiclass_accuracy(y_pred, y_true , average=\"macro\" , num_classes=num_class)\n",
    "f1 = multiclass_f1_score(y_pred, y_true , average=\"macro\" , num_classes=num_class)\n",
    "prec = multiclass_precision(y_pred, y_true , average=\"macro\", num_classes=num_class)\n",
    "recall = multiclass_recall(y_pred, y_true , average=\"macro\", num_classes=num_class)\n",
    "\n",
    "print(f\"test \\nentropyloss:{eva['val_loss']:.4f} | accuracy:{acc.item():.4f} | f1-score:{f1.item():.4f}\"\n",
    "      f\"| precision:{prec.item():.4f} | recall:{recall.item():.4f} | auc:{auc:.4f} \")"
   ]
  },
  {
   "cell_type": "code",
   "execution_count": 45,
   "id": "6d2bce7f",
   "metadata": {},
   "outputs": [
    {
     "name": "stdout",
     "output_type": "stream",
     "text": [
      "[[235   5   2]\n",
      " [  2 240   0]\n",
      " [  4   2 236]]\n"
     ]
    },
    {
     "data": {
      "text/html": [
       "<div>\n",
       "<style scoped>\n",
       "    .dataframe tbody tr th:only-of-type {\n",
       "        vertical-align: middle;\n",
       "    }\n",
       "\n",
       "    .dataframe tbody tr th {\n",
       "        vertical-align: top;\n",
       "    }\n",
       "\n",
       "    .dataframe thead th {\n",
       "        text-align: right;\n",
       "    }\n",
       "</style>\n",
       "<table border=\"1\" class=\"dataframe\">\n",
       "  <thead>\n",
       "    <tr style=\"text-align: right;\">\n",
       "      <th></th>\n",
       "      <th>benign</th>\n",
       "      <th>malignant</th>\n",
       "      <th>normal</th>\n",
       "    </tr>\n",
       "  </thead>\n",
       "  <tbody>\n",
       "    <tr>\n",
       "      <th>benign</th>\n",
       "      <td>0.971074</td>\n",
       "      <td>0.020661</td>\n",
       "      <td>0.008264</td>\n",
       "    </tr>\n",
       "    <tr>\n",
       "      <th>malignant</th>\n",
       "      <td>0.008264</td>\n",
       "      <td>0.991736</td>\n",
       "      <td>0.000000</td>\n",
       "    </tr>\n",
       "    <tr>\n",
       "      <th>normal</th>\n",
       "      <td>0.016529</td>\n",
       "      <td>0.008264</td>\n",
       "      <td>0.975207</td>\n",
       "    </tr>\n",
       "  </tbody>\n",
       "</table>\n",
       "</div>"
      ],
      "text/plain": [
       "             benign  malignant    normal\n",
       "benign     0.971074   0.020661  0.008264\n",
       "malignant  0.008264   0.991736  0.000000\n",
       "normal     0.016529   0.008264  0.975207"
      ]
     },
     "execution_count": 45,
     "metadata": {},
     "output_type": "execute_result"
    }
   ],
   "source": [
    "class_map = {1:'benign', 2:'malignant', 0:'normal'}\n",
    "cf_matrix = confusion_matrix(y_true, y_pred)\n",
    "df_cm = pd.DataFrame(cf_matrix / np.sum(cf_matrix, axis=1)[:, None], index = [class_map[i] for i in class_map], # \n",
    "                     columns = [class_map[i] for i in class_map])\n",
    "print(cf_matrix)\n",
    "df_cm"
   ]
  }
 ],
 "metadata": {
  "kernelspec": {
   "display_name": "Python 3 (ipykernel)",
   "language": "python",
   "name": "python3"
  },
  "language_info": {
   "codemirror_mode": {
    "name": "ipython",
    "version": 3
   },
   "file_extension": ".py",
   "mimetype": "text/x-python",
   "name": "python",
   "nbconvert_exporter": "python",
   "pygments_lexer": "ipython3",
   "version": "3.8.10"
  }
 },
 "nbformat": 4,
 "nbformat_minor": 5
}
